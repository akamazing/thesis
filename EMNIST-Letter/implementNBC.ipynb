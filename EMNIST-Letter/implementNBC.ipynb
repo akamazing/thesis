{
 "cells": [
  {
   "cell_type": "code",
   "execution_count": 1,
   "metadata": {},
   "outputs": [
    {
     "name": "stderr",
     "output_type": "stream",
     "text": [
      "/home/hsiymsr/abhi6793/.conda/envs/thesis/lib/python3.6/site-packages/tensorflow/python/framework/dtypes.py:493: FutureWarning: Passing (type, 1) or '1type' as a synonym of type is deprecated; in a future version of numpy, it will be understood as (type, (1,)) / '(1,)type'.\n",
      "  _np_qint8 = np.dtype([(\"qint8\", np.int8, 1)])\n",
      "/home/hsiymsr/abhi6793/.conda/envs/thesis/lib/python3.6/site-packages/tensorflow/python/framework/dtypes.py:494: FutureWarning: Passing (type, 1) or '1type' as a synonym of type is deprecated; in a future version of numpy, it will be understood as (type, (1,)) / '(1,)type'.\n",
      "  _np_quint8 = np.dtype([(\"quint8\", np.uint8, 1)])\n",
      "/home/hsiymsr/abhi6793/.conda/envs/thesis/lib/python3.6/site-packages/tensorflow/python/framework/dtypes.py:495: FutureWarning: Passing (type, 1) or '1type' as a synonym of type is deprecated; in a future version of numpy, it will be understood as (type, (1,)) / '(1,)type'.\n",
      "  _np_qint16 = np.dtype([(\"qint16\", np.int16, 1)])\n",
      "/home/hsiymsr/abhi6793/.conda/envs/thesis/lib/python3.6/site-packages/tensorflow/python/framework/dtypes.py:496: FutureWarning: Passing (type, 1) or '1type' as a synonym of type is deprecated; in a future version of numpy, it will be understood as (type, (1,)) / '(1,)type'.\n",
      "  _np_quint16 = np.dtype([(\"quint16\", np.uint16, 1)])\n",
      "/home/hsiymsr/abhi6793/.conda/envs/thesis/lib/python3.6/site-packages/tensorflow/python/framework/dtypes.py:497: FutureWarning: Passing (type, 1) or '1type' as a synonym of type is deprecated; in a future version of numpy, it will be understood as (type, (1,)) / '(1,)type'.\n",
      "  _np_qint32 = np.dtype([(\"qint32\", np.int32, 1)])\n",
      "/home/hsiymsr/abhi6793/.conda/envs/thesis/lib/python3.6/site-packages/tensorflow/python/framework/dtypes.py:502: FutureWarning: Passing (type, 1) or '1type' as a synonym of type is deprecated; in a future version of numpy, it will be understood as (type, (1,)) / '(1,)type'.\n",
      "  np_resource = np.dtype([(\"resource\", np.ubyte, 1)])\n",
      "Using TensorFlow backend.\n"
     ]
    },
    {
     "name": "stdout",
     "output_type": "stream",
     "text": [
      "Extracting data/Original/train-images-idx3-ubyte.gz\n",
      "Extracting data/Original/train-labels-idx1-ubyte.gz\n",
      "Extracting data/Original/t10k-images-idx3-ubyte.gz\n",
      "Extracting data/Original/t10k-labels-idx1-ubyte.gz\n"
     ]
    }
   ],
   "source": [
    "from base import *\n",
    "from sklearn.metrics import accuracy_score\n",
    "from sklearn.naive_bayes import MultinomialNB\n",
    "\n",
    "mnist = input_data.read_data_sets(\"data/Original\", one_hot=False)"
   ]
  },
  {
   "cell_type": "code",
   "execution_count": 2,
   "metadata": {
    "collapsed": true
   },
   "outputs": [],
   "source": [
    "xTrain = mnist.train.images\n",
    "yTrain = mnist.train.labels-1\n",
    "\n",
    "xTrain = xTrain.reshape(xTrain.shape[0], 1, 28, 28)\n",
    "xTrain = Transform (xTrain, yTrain, Rotate, 0)\n",
    "xTrain = xTrain.reshape(xTrain.shape[0],  784)\n",
    "\n",
    "clf = MultinomialNB()\n",
    "# Perform the predictions\n",
    "clf.fit(xTrain,yTrain)\n",
    "\n",
    "yMatrix = []\n",
    "predMatrix = []\n",
    "accuracyMatrix = []\n",
    "accMatrix = []\n",
    "\n",
    "Algo = NB\n",
    "MT = Shade\n",
    "\n",
    "fname = \"models/NBModel\"\n",
    "if (os.path.exists(fname)):\n",
    "        os.remove(fname)\n",
    "with open(fname, 'wb') as f:\n",
    "    pickle.dump(clf, open(\"models/NBModel\", 'wb'))"
   ]
  },
  {
   "cell_type": "code",
   "execution_count": 8,
   "metadata": {},
   "outputs": [
    {
     "name": "stdout",
     "output_type": "stream",
     "text": [
      "Accuracy of NB Algorithm: 0.578125\n"
     ]
    }
   ],
   "source": [
    "dataset = \"letter\"\n",
    "with open(\"../\"+str(dataset)+\"/data/\"+str(Shear)+\"/\"+str(50), 'rb') as f:\n",
    "    [xTestOri, yTestOri] = pickle.load(f)\n",
    "xTestOri = np.array(xTestOri)\n",
    "yTestOri = np.array(yTestOri)\n",
    "xTestOri = xTestOri.reshape( xTestOri.shape[0],  784)\n",
    "yTestOri = yTestOri.reshape(yTestOri.shape[0])\n",
    "\n",
    "clf = pickle.load(open(\"models/NBModel\", 'rb'))\n",
    "p = clf.predict(xTestOri)\n",
    "a = accuracy_score(yTestOri, p)\n",
    "print(\"Accuracy of NB Algorithm: \"+str(a))"
   ]
  },
  {
   "cell_type": "code",
   "execution_count": 7,
   "metadata": {
    "scrolled": false
   },
   "outputs": [
    {
     "name": "stdout",
     "output_type": "stream",
     "text": [
      "Step: -10 Accuracy: 0.05322115384615385\n",
      "Step: -9 Accuracy: 0.05485576923076923\n",
      "Step: -8 Accuracy: 0.054615384615384614\n",
      "Step: -7 Accuracy: 0.05567307692307692\n",
      "Step: -6 Accuracy: 0.06153846153846154\n",
      "Step: -5 Accuracy: 0.09076923076923077\n",
      "Step: -4 Accuracy: 0.16139423076923076\n",
      "Step: -3 Accuracy: 0.28841346153846154\n",
      "Step: -2 Accuracy: 0.4425480769230769\n",
      "Step: -1 Accuracy: 0.5436057692307692\n",
      "Step: 0 Accuracy: 0.578125\n",
      "Step: 1 Accuracy: 0.5463942307692308\n",
      "Step: 2 Accuracy: 0.4275\n",
      "Step: 3 Accuracy: 0.26572115384615386\n",
      "Step: 4 Accuracy: 0.14860576923076924\n",
      "Step: 5 Accuracy: 0.08394230769230769\n",
      "Step: 6 Accuracy: 0.05091346153846154\n",
      "Step: 7 Accuracy: 0.04466346153846154\n",
      "Step: 8 Accuracy: 0.05158653846153846\n",
      "Step: 9 Accuracy: 0.058076923076923075\n",
      "Step: 10 Accuracy: 0.05625\n"
     ]
    },
    {
     "ename": "KeyboardInterrupt",
     "evalue": "",
     "output_type": "error",
     "traceback": [
      "\u001b[0;31m---------------------------------------------------------------------------\u001b[0m",
      "\u001b[0;31mKeyboardInterrupt\u001b[0m                         Traceback (most recent call last)",
      "\u001b[0;32m<ipython-input-7-106485bd8db8>\u001b[0m in \u001b[0;36m<module>\u001b[0;34m\u001b[0m\n\u001b[1;32m     24\u001b[0m \u001b[0;32mfor\u001b[0m \u001b[0mstep\u001b[0m \u001b[0;32min\u001b[0m \u001b[0mrange\u001b[0m\u001b[0;34m(\u001b[0m\u001b[0;34m-\u001b[0m\u001b[0;36m10\u001b[0m\u001b[0;34m,\u001b[0m\u001b[0;36m50\u001b[0m\u001b[0;34m)\u001b[0m\u001b[0;34m:\u001b[0m\u001b[0;34m\u001b[0m\u001b[0;34m\u001b[0m\u001b[0m\n\u001b[1;32m     25\u001b[0m     \u001b[0;32mwith\u001b[0m \u001b[0mopen\u001b[0m\u001b[0;34m(\u001b[0m\u001b[0;34m\"data/\"\u001b[0m\u001b[0;34m+\u001b[0m\u001b[0mstr\u001b[0m\u001b[0;34m(\u001b[0m\u001b[0mMT\u001b[0m\u001b[0;34m)\u001b[0m\u001b[0;34m+\u001b[0m\u001b[0;34m\"/\"\u001b[0m\u001b[0;34m+\u001b[0m\u001b[0mstr\u001b[0m\u001b[0;34m(\u001b[0m\u001b[0mstep\u001b[0m\u001b[0;34m+\u001b[0m\u001b[0;36m50\u001b[0m\u001b[0;34m)\u001b[0m\u001b[0;34m,\u001b[0m \u001b[0;34m'rb'\u001b[0m\u001b[0;34m)\u001b[0m \u001b[0;32mas\u001b[0m \u001b[0mf\u001b[0m\u001b[0;34m:\u001b[0m\u001b[0;34m\u001b[0m\u001b[0;34m\u001b[0m\u001b[0m\n\u001b[0;32m---> 26\u001b[0;31m         \u001b[0;34m[\u001b[0m\u001b[0mxTest\u001b[0m\u001b[0;34m,\u001b[0m \u001b[0myTest\u001b[0m\u001b[0;34m]\u001b[0m \u001b[0;34m=\u001b[0m \u001b[0mpickle\u001b[0m\u001b[0;34m.\u001b[0m\u001b[0mload\u001b[0m\u001b[0;34m(\u001b[0m\u001b[0mf\u001b[0m\u001b[0;34m)\u001b[0m\u001b[0;34m\u001b[0m\u001b[0;34m\u001b[0m\u001b[0m\n\u001b[0m\u001b[1;32m     27\u001b[0m \u001b[0;34m\u001b[0m\u001b[0m\n\u001b[1;32m     28\u001b[0m     \u001b[0mxTest\u001b[0m \u001b[0;34m=\u001b[0m \u001b[0mxTest\u001b[0m\u001b[0;34m.\u001b[0m\u001b[0mreshape\u001b[0m\u001b[0;34m(\u001b[0m\u001b[0mxTest\u001b[0m\u001b[0;34m.\u001b[0m\u001b[0mshape\u001b[0m\u001b[0;34m[\u001b[0m\u001b[0;36m0\u001b[0m\u001b[0;34m]\u001b[0m\u001b[0;34m,\u001b[0m  \u001b[0;36m784\u001b[0m\u001b[0;34m)\u001b[0m\u001b[0;34m\u001b[0m\u001b[0;34m\u001b[0m\u001b[0m\n",
      "\u001b[0;31mKeyboardInterrupt\u001b[0m: "
     ]
    }
   ],
   "source": [
    "xTrain = mnist.train.images\n",
    "yTrain = mnist.train.labels-1\n",
    "\n",
    "xTrain = xTrain.reshape(xTrain.shape[0], 1, 28, 28)\n",
    "xTrain = Transform (xTrain, yTrain, Rotate, 0)\n",
    "xTrain = xTrain.reshape(xTrain.shape[0],  784)\n",
    "\n",
    "clf = MultinomialNB()\n",
    "# Perform the predictions\n",
    "clf.fit(xTrain,yTrain)\n",
    "\n",
    "yMatrix = []\n",
    "predMatrix = []\n",
    "accuracyMatrix = []\n",
    "accMatrix = []\n",
    "\n",
    "Algo = NB\n",
    "MT = ShiftX\n",
    "\n",
    "yMatrixTemp = []\n",
    "predMatrixTemp = []\n",
    "accuracyMatrixTemp = []\n",
    "\n",
    "for step in range(-10,50):\n",
    "    with open(\"data/\"+str(MT)+\"/\"+str(step+50), 'rb') as f:\n",
    "        [xTest, yTest] = pickle.load(f)\n",
    "\n",
    "    xTest = xTest.reshape(xTest.shape[0],  784)\n",
    "    yTest = np.array(yTest)\n",
    "    # Perform the predictions\n",
    "    p = clf.predict(xTest)\n",
    "    # Calculate the accuracy of the prediction\n",
    "    a = accuracy_score(yTest, p)\n",
    "    yMatrixTemp.append(yTest)\n",
    "    predMatrixTemp.append(p)\n",
    "    accuracyMatrixTemp.append(a)\n",
    "    print (\"Step: \"+str(step)+\" Accuracy: \"+str(a))\n",
    "accMatrixTemp = processResults(predMatrixTemp, yMatrixTemp)\n",
    "yMatrix.append(yMatrixTemp)\n",
    "predMatrix.append(predMatrixTemp)\n",
    "accuracyMatrix.append(accuracyMatrixTemp)\n",
    "accMatrix.append(accMatrixTemp)"
   ]
  },
  {
   "cell_type": "code",
   "execution_count": 4,
   "metadata": {},
   "outputs": [
    {
     "name": "stdout",
     "output_type": "stream",
     "text": [
      "(20800,)\n"
     ]
    }
   ],
   "source": [
    "print(yTest.shape)"
   ]
  },
  {
   "cell_type": "code",
   "execution_count": 21,
   "metadata": {
    "collapsed": true
   },
   "outputs": [],
   "source": [
    "# fname = \"data/Output/\"+Algo+\"_\"+str(MT)\n",
    "\n",
    "# if (os.path.exists(fname)):\n",
    "#         os.remove(fname)\n",
    "# with open(fname, 'wb') as f:\n",
    "#     pickle.dump([yMatrix, predMatrix, accuracyMatrix, accMatrix], f)"
   ]
  },
  {
   "cell_type": "code",
   "execution_count": null,
   "metadata": {
    "collapsed": true
   },
   "outputs": [],
   "source": []
  }
 ],
 "metadata": {
  "kernelspec": {
   "display_name": "Thesis",
   "language": "python",
   "name": "thesis"
  },
  "language_info": {
   "codemirror_mode": {
    "name": "ipython",
    "version": 3
   },
   "file_extension": ".py",
   "mimetype": "text/x-python",
   "name": "python",
   "nbconvert_exporter": "python",
   "pygments_lexer": "ipython3",
   "version": "3.6.8"
  }
 },
 "nbformat": 4,
 "nbformat_minor": 2
}
