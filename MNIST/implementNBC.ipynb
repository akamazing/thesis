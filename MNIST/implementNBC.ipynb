{
 "cells": [
  {
   "cell_type": "code",
   "execution_count": 5,
   "metadata": {},
   "outputs": [
    {
     "name": "stdout",
     "output_type": "stream",
     "text": [
      "Extracting data/Original/train-images-idx3-ubyte.gz\n",
      "Extracting data/Original/train-labels-idx1-ubyte.gz\n",
      "Extracting data/Original/t10k-images-idx3-ubyte.gz\n",
      "Extracting data/Original/t10k-labels-idx1-ubyte.gz\n"
     ]
    }
   ],
   "source": [
    "from base import *\n",
    "\n",
    "mnist = input_data.read_data_sets(\"data/Original\", one_hot=False)"
   ]
  },
  {
   "cell_type": "code",
   "execution_count": 6,
   "metadata": {
    "scrolled": true
   },
   "outputs": [
    {
     "name": "stdout",
     "output_type": "stream",
     "text": [
      "Step: -50 Accuracy: 0.0728\n",
      "Step: -49 Accuracy: 0.0588\n",
      "Step: -48 Accuracy: 0.0601\n",
      "Step: -47 Accuracy: 0.0653\n",
      "Step: -46 Accuracy: 0.0749\n",
      "Step: -45 Accuracy: 0.0847\n",
      "Step: -44 Accuracy: 0.088\n",
      "Step: -43 Accuracy: 0.1009\n",
      "Step: -42 Accuracy: 0.1049\n",
      "Step: -41 Accuracy: 0.1228\n",
      "Step: -40 Accuracy: 0.1263\n",
      "Step: -39 Accuracy: 0.1415\n",
      "Step: -38 Accuracy: 0.1419\n",
      "Step: -37 Accuracy: 0.1505\n",
      "Step: -36 Accuracy: 0.1498\n",
      "Step: -35 Accuracy: 0.1559\n",
      "Step: -34 Accuracy: 0.152\n",
      "Step: -33 Accuracy: 0.1485\n",
      "Step: -32 Accuracy: 0.1428\n",
      "Step: -31 Accuracy: 0.1291\n",
      "Step: -30 Accuracy: 0.1238\n",
      "Step: -29 Accuracy: 0.1114\n",
      "Step: -28 Accuracy: 0.1065\n",
      "Step: -27 Accuracy: 0.0995\n",
      "Step: -26 Accuracy: 0.0958\n",
      "Step: -25 Accuracy: 0.0929\n",
      "Step: -24 Accuracy: 0.0885\n",
      "Step: -23 Accuracy: 0.0848\n",
      "Step: -22 Accuracy: 0.0814\n",
      "Step: -21 Accuracy: 0.0774\n",
      "Step: -20 Accuracy: 0.0742\n",
      "Step: -19 Accuracy: 0.0726\n",
      "Step: -18 Accuracy: 0.0726\n",
      "Step: -17 Accuracy: 0.0769\n",
      "Step: -16 Accuracy: 0.0834\n",
      "Step: -15 Accuracy: 0.0935\n",
      "Step: -14 Accuracy: 0.1072\n",
      "Step: -13 Accuracy: 0.1293\n",
      "Step: -12 Accuracy: 0.1511\n",
      "Step: -11 Accuracy: 0.1856\n",
      "Step: -10 Accuracy: 0.2224\n",
      "Step: -9 Accuracy: 0.2702\n",
      "Step: -8 Accuracy: 0.3294\n",
      "Step: -7 Accuracy: 0.4122\n",
      "Step: -6 Accuracy: 0.5036\n",
      "Step: -5 Accuracy: 0.5938\n",
      "Step: -4 Accuracy: 0.6874\n",
      "Step: -3 Accuracy: 0.7524\n",
      "Step: -2 Accuracy: 0.7873\n",
      "Step: -1 Accuracy: 0.805\n",
      "Step: 0 Accuracy: 0.8085\n",
      "Step: 1 Accuracy: 0.8055\n",
      "Step: 2 Accuracy: 0.789\n",
      "Step: 3 Accuracy: 0.7465\n",
      "Step: 4 Accuracy: 0.6791\n",
      "Step: 5 Accuracy: 0.5586\n",
      "Step: 6 Accuracy: 0.4441\n",
      "Step: 7 Accuracy: 0.3587\n",
      "Step: 8 Accuracy: 0.2971\n",
      "Step: 9 Accuracy: 0.2501\n",
      "Step: 10 Accuracy: 0.2187\n"
     ]
    },
    {
     "ename": "KeyboardInterrupt",
     "evalue": "",
     "output_type": "error",
     "traceback": [
      "\u001b[0;31m---------------------------------------------------------------------------\u001b[0m",
      "\u001b[0;31mKeyboardInterrupt\u001b[0m                         Traceback (most recent call last)",
      "\u001b[0;32m<ipython-input-6-371c894aa6a7>\u001b[0m in \u001b[0;36m<module>\u001b[0;34m\u001b[0m\n\u001b[1;32m     24\u001b[0m \u001b[0;32mfor\u001b[0m \u001b[0mstep\u001b[0m \u001b[0;32min\u001b[0m \u001b[0mrange\u001b[0m\u001b[0;34m(\u001b[0m\u001b[0;34m-\u001b[0m\u001b[0;36m50\u001b[0m\u001b[0;34m,\u001b[0m\u001b[0;36m50\u001b[0m\u001b[0;34m)\u001b[0m\u001b[0;34m:\u001b[0m\u001b[0;34m\u001b[0m\u001b[0;34m\u001b[0m\u001b[0m\n\u001b[1;32m     25\u001b[0m     \u001b[0;32mwith\u001b[0m \u001b[0mopen\u001b[0m\u001b[0;34m(\u001b[0m\u001b[0;34m\"data/\"\u001b[0m\u001b[0;34m+\u001b[0m\u001b[0mstr\u001b[0m\u001b[0;34m(\u001b[0m\u001b[0mMT\u001b[0m\u001b[0;34m)\u001b[0m\u001b[0;34m+\u001b[0m\u001b[0;34m\"/\"\u001b[0m\u001b[0;34m+\u001b[0m\u001b[0mstr\u001b[0m\u001b[0;34m(\u001b[0m\u001b[0mstep\u001b[0m\u001b[0;34m+\u001b[0m\u001b[0;36m50\u001b[0m\u001b[0;34m)\u001b[0m\u001b[0;34m,\u001b[0m \u001b[0;34m'rb'\u001b[0m\u001b[0;34m)\u001b[0m \u001b[0;32mas\u001b[0m \u001b[0mf\u001b[0m\u001b[0;34m:\u001b[0m\u001b[0;34m\u001b[0m\u001b[0;34m\u001b[0m\u001b[0m\n\u001b[0;32m---> 26\u001b[0;31m         \u001b[0;34m[\u001b[0m\u001b[0mxTest\u001b[0m\u001b[0;34m,\u001b[0m \u001b[0myTest\u001b[0m\u001b[0;34m]\u001b[0m \u001b[0;34m=\u001b[0m \u001b[0mpickle\u001b[0m\u001b[0;34m.\u001b[0m\u001b[0mload\u001b[0m\u001b[0;34m(\u001b[0m\u001b[0mf\u001b[0m\u001b[0;34m)\u001b[0m\u001b[0;34m\u001b[0m\u001b[0;34m\u001b[0m\u001b[0m\n\u001b[0m\u001b[1;32m     27\u001b[0m \u001b[0;34m\u001b[0m\u001b[0m\n\u001b[1;32m     28\u001b[0m     \u001b[0mxTest\u001b[0m \u001b[0;34m=\u001b[0m \u001b[0mxTest\u001b[0m\u001b[0;34m.\u001b[0m\u001b[0mreshape\u001b[0m\u001b[0;34m(\u001b[0m\u001b[0mxTest\u001b[0m\u001b[0;34m.\u001b[0m\u001b[0mshape\u001b[0m\u001b[0;34m[\u001b[0m\u001b[0;36m0\u001b[0m\u001b[0;34m]\u001b[0m\u001b[0;34m,\u001b[0m  \u001b[0;36m784\u001b[0m\u001b[0;34m)\u001b[0m\u001b[0;34m\u001b[0m\u001b[0;34m\u001b[0m\u001b[0m\n",
      "\u001b[0;31mKeyboardInterrupt\u001b[0m: "
     ]
    }
   ],
   "source": [
    "xTrain = mnist.train.images\n",
    "yTrain = mnist.train.labels\n",
    "\n",
    "xTrain = xTrain.reshape(xTrain.shape[0], 1, 28, 28)\n",
    "xTrain = Transform (xTrain, yTrain, Rotate, 0)\n",
    "xTrain = xTrain.reshape(xTrain.shape[0],  784)\n",
    "\n",
    "clf = MultinomialNB()\n",
    "# Perform the predictions\n",
    "clf.fit(xTrain,yTrain)\n",
    "\n",
    "fname = \"models/NBModel\"\n",
    "if (os.path.exists(fname)):\n",
    "        os.remove(fname)\n",
    "with open(fname, 'wb') as f:\n",
    "    pickle.dump(clf, open(\"models/NBModel\", 'wb'))\n",
    "\n",
    "yMatrix = []\n",
    "predMatrix = []\n",
    "accuracyMatrix = []\n",
    "accMatrix = []\n",
    "\n",
    "Algo = NB\n",
    "MT = ShiftX\n",
    "\n",
    "yMatrixTemp = []\n",
    "predMatrixTemp = []\n",
    "accuracyMatrixTemp = []\n",
    "\n",
    "for step in range(-50,50):\n",
    "    with open(\"data/\"+str(MT)+\"/\"+str(step+50), 'rb') as f:\n",
    "        [xTest, yTest] = pickle.load(f)\n",
    "\n",
    "    xTest = xTest.reshape(xTest.shape[0],  784)\n",
    "    yTest = np.array(yTest)\n",
    "    # Perform the predictions\n",
    "    p = clf.predict(xTest)\n",
    "    # Calculate the accuracy of the prediction\n",
    "    a = accuracy_score(yTest, p)\n",
    "    yMatrixTemp.append(yTest)\n",
    "    predMatrixTemp.append(p)\n",
    "    accuracyMatrixTemp.append(a)\n",
    "    print (\"Step: \"+str(step)+\" Accuracy: \"+str(a))\n",
    "accMatrixTemp = processResults(predMatrixTemp, yMatrixTemp)\n",
    "yMatrix.append(yMatrixTemp)\n",
    "predMatrix.append(predMatrixTemp)\n",
    "accuracyMatrix.append(accuracyMatrixTemp)\n",
    "accMatrix.append(accMatrixTemp)"
   ]
  },
  {
   "cell_type": "code",
   "execution_count": 5,
   "metadata": {
    "collapsed": true
   },
   "outputs": [],
   "source": [
    "fname = \"data/Output/\"+Algo+\"_\"+str(MT)\n",
    "\n",
    "if (os.path.exists(fname)):\n",
    "        os.remove(fname)\n",
    "with open(fname, 'wb') as f:\n",
    "    pickle.dump([yMatrix, predMatrix, accuracyMatrix, accMatrix], f)"
   ]
  },
  {
   "cell_type": "code",
   "execution_count": null,
   "metadata": {
    "collapsed": true
   },
   "outputs": [],
   "source": []
  }
 ],
 "metadata": {
  "kernelspec": {
   "display_name": "Thesis",
   "language": "python",
   "name": "thesis"
  },
  "language_info": {
   "codemirror_mode": {
    "name": "ipython",
    "version": 3
   },
   "file_extension": ".py",
   "mimetype": "text/x-python",
   "name": "python",
   "nbconvert_exporter": "python",
   "pygments_lexer": "ipython3",
   "version": "3.6.8"
  }
 },
 "nbformat": 4,
 "nbformat_minor": 2
}
